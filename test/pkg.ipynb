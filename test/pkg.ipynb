{
 "cells": [
  {
   "cell_type": "markdown",
   "metadata": {},
   "source": [
    "<br>\n",
    "\n",
    "# Introdução"
   ]
  },
  {
   "cell_type": "code",
   "execution_count": 1,
   "metadata": {},
   "outputs": [
    {
     "data": {
      "text/plain": "'/home/michel/Codes/open_mpsp/norma_res_conama_357-05/test'"
     },
     "execution_count": 1,
     "metadata": {},
     "output_type": "execute_result"
    }
   ],
   "source": [
    "# Onde Estou?\n",
    "import os\n",
    "os.getcwd()"
   ]
  },
  {
   "cell_type": "code",
   "execution_count": 2,
   "metadata": {},
   "outputs": [
    {
     "name": "stdout",
     "output_type": "stream",
     "text": [
      "Requirement already satisfied: build in /home/michel/Documents/Conda/envs/pablocarreira-py39/lib/python3.9/site-packages (0.7.0)\r\n",
      "Requirement already satisfied: pep517>=0.9.1 in /home/michel/Documents/Conda/envs/pablocarreira-py39/lib/python3.9/site-packages (from build) (0.12.0)\r\n",
      "Requirement already satisfied: tomli>=1.0.0 in /home/michel/Documents/Conda/envs/pablocarreira-py39/lib/python3.9/site-packages (from build) (1.2.2)\r\n",
      "Requirement already satisfied: packaging>=19.0 in /home/michel/Documents/Conda/envs/pablocarreira-py39/lib/python3.9/site-packages (from build) (21.3)\r\n",
      "Requirement already satisfied: pyparsing!=3.0.5,>=2.0.2 in /home/michel/Documents/Conda/envs/pablocarreira-py39/lib/python3.9/site-packages (from packaging>=19.0->build) (3.0.6)\r\n"
     ]
    }
   ],
   "source": [
    "# Instala o build\n",
    "!python3 -m pip install --upgrade build"
   ]
  },
  {
   "cell_type": "code",
   "execution_count": 3,
   "metadata": {},
   "outputs": [
    {
     "name": "stdout",
     "output_type": "stream",
     "text": [
      "\u001B[1m* Creating venv isolated environment...\u001B[0m\r\n",
      "\u001B[1m* Installing packages in isolated environment... (setuptools >= 40.8.0, wheel)\u001B[0m\r\n",
      "\u001B[1m* Getting dependencies for sdist...\u001B[0m\r\n",
      "running egg_info\r\n",
      "writing src/conama_357.egg-info/PKG-INFO\r\n",
      "writing dependency_links to src/conama_357.egg-info/dependency_links.txt\r\n",
      "writing requirements to src/conama_357.egg-info/requires.txt\r\n",
      "writing top-level names to src/conama_357.egg-info/top_level.txt\r\n",
      "reading manifest file 'src/conama_357.egg-info/SOURCES.txt'\r\n",
      "reading manifest template 'MANIFEST.in'\r\n",
      "warning: no directories found matching 'data'\r\n",
      "no previously-included directories found matching 'test'\r\n",
      "warning: no previously-included files matching 'run.py' found anywhere in distribution\r\n",
      "warning: no previously-included files matching '__pycache__' found anywhere in distribution\r\n",
      "warning: no previously-included files matching '*.py[cod]' found anywhere in distribution\r\n",
      "warning: no previously-included files matching '*.ipynb_checkpoints/' found anywhere in distribution\r\n",
      "adding license file 'LICENSE'\r\n",
      "\u001B[1m* Building sdist...\u001B[0m\r\n",
      "running sdist\r\n",
      "running egg_info\r\n",
      "writing src/conama_357.egg-info/PKG-INFO\r\n",
      "writing dependency_links to src/conama_357.egg-info/dependency_links.txt\r\n",
      "writing requirements to src/conama_357.egg-info/requires.txt\r\n",
      "writing top-level names to src/conama_357.egg-info/top_level.txt\r\n",
      "reading manifest file 'src/conama_357.egg-info/SOURCES.txt'\r\n",
      "reading manifest template 'MANIFEST.in'\r\n",
      "warning: no directories found matching 'data'\r\n",
      "no previously-included directories found matching 'test'\r\n",
      "warning: no previously-included files matching 'run.py' found anywhere in distribution\r\n",
      "warning: no previously-included files matching '__pycache__' found anywhere in distribution\r\n",
      "warning: no previously-included files matching '*.py[cod]' found anywhere in distribution\r\n",
      "warning: no previously-included files matching '*.ipynb_checkpoints/' found anywhere in distribution\r\n",
      "adding license file 'LICENSE'\r\n",
      "running check\r\n",
      "copying files to conama_357-0.0.2...\r\n",
      "Writing conama_357-0.0.2/setup.cfg\r\n",
      "\u001B[1m* Building wheel from sdist\u001B[0m\r\n",
      "\u001B[1m* Creating venv isolated environment...\u001B[0m\r\n",
      "\u001B[1m* Installing packages in isolated environment... (setuptools >= 40.8.0, wheel)\u001B[0m\r\n",
      "\u001B[1m* Getting dependencies for wheel...\u001B[0m\r\n",
      "running egg_info\r\n",
      "writing src/conama_357.egg-info/PKG-INFO\r\n",
      "writing dependency_links to src/conama_357.egg-info/dependency_links.txt\r\n",
      "writing requirements to src/conama_357.egg-info/requires.txt\r\n",
      "writing top-level names to src/conama_357.egg-info/top_level.txt\r\n",
      "reading manifest file 'src/conama_357.egg-info/SOURCES.txt'\r\n",
      "reading manifest template 'MANIFEST.in'\r\n",
      "warning: no directories found matching 'data'\r\n",
      "no previously-included directories found matching 'test'\r\n",
      "warning: no previously-included files matching 'run.py' found anywhere in distribution\r\n",
      "warning: no previously-included files matching '__pycache__' found anywhere in distribution\r\n",
      "warning: no previously-included files matching '*.py[cod]' found anywhere in distribution\r\n",
      "warning: no previously-included files matching '*.ipynb_checkpoints/' found anywhere in distribution\r\n",
      "adding license file 'LICENSE'\r\n",
      "\u001B[1m* Installing packages in isolated environment... (wheel)\u001B[0m\r\n",
      "\u001B[1m* Building wheel...\u001B[0m\r\n",
      "running bdist_wheel\r\n",
      "running build\r\n",
      "running build_py\r\n",
      "running egg_info\r\n",
      "writing src/conama_357.egg-info/PKG-INFO\r\n",
      "writing dependency_links to src/conama_357.egg-info/dependency_links.txt\r\n",
      "writing requirements to src/conama_357.egg-info/requires.txt\r\n",
      "writing top-level names to src/conama_357.egg-info/top_level.txt\r\n",
      "reading manifest file 'src/conama_357.egg-info/SOURCES.txt'\r\n",
      "reading manifest template 'MANIFEST.in'\r\n",
      "warning: no directories found matching 'data'\r\n",
      "no previously-included directories found matching 'test'\r\n",
      "warning: no previously-included files matching 'run.py' found anywhere in distribution\r\n",
      "warning: no previously-included files matching '__pycache__' found anywhere in distribution\r\n",
      "warning: no previously-included files matching '*.py[cod]' found anywhere in distribution\r\n",
      "warning: no previously-included files matching '*.ipynb_checkpoints/' found anywhere in distribution\r\n",
      "adding license file 'LICENSE'\r\n",
      "installing to build/bdist.linux-x86_64/wheel\r\n",
      "running install\r\n",
      "running install_lib\r\n",
      "copying build/lib/normas/conama_357.py -> build/bdist.linux-x86_64/wheel/normas\r\n",
      "copying build/lib/normas/__init__.py -> build/bdist.linux-x86_64/wheel/normas\r\n",
      "copying build/lib/normas/data/tab_conama_357.xlsx -> build/bdist.linux-x86_64/wheel/normas/data\r\n",
      "running install_egg_info\r\n",
      "running install_scripts\r\n",
      "adding license file \"LICENSE\" (matched pattern \"LICEN[CS]E*\")\r\n",
      "creating build/bdist.linux-x86_64/wheel/conama_357-0.0.2.dist-info/WHEEL\r\n",
      "creating '/home/michel/Codes/open_mpsp/norma_res_conama_357-05/dist/tmpqrnymga1/conama_357-0.0.2-py3-none-any.whl' and adding 'build/bdist.linux-x86_64/wheel' to it\r\n",
      "adding 'normas/__init__.py'\r\n",
      "adding 'normas/conama_357.py'\r\n",
      "adding 'normas/data/tab_conama_357.xlsx'\r\n",
      "adding 'conama_357-0.0.2.dist-info/LICENSE'\r\n",
      "adding 'conama_357-0.0.2.dist-info/METADATA'\r\n",
      "adding 'conama_357-0.0.2.dist-info/WHEEL'\r\n",
      "adding 'conama_357-0.0.2.dist-info/top_level.txt'\r\n",
      "adding 'conama_357-0.0.2.dist-info/RECORD'\r\n",
      "removing build/bdist.linux-x86_64/wheel\r\n",
      "\u001B[1m\u001B[92mSuccessfully built \u001B[4mconama_357-0.0.2.tar.gz\u001B[0m\u001B[1m\u001B[92m and \u001B[4mconama_357-0.0.2-py3-none-any.whl\u001B[0m\u001B[1m\u001B[92m\u001B[0m\r\n",
      "\u001B[0m"
     ]
    }
   ],
   "source": [
    "# Builda o projeto\n",
    "!python3 -m build .."
   ]
  },
  {
   "cell_type": "code",
   "execution_count": null,
   "metadata": {},
   "outputs": [],
   "source": []
  }
 ],
 "metadata": {
  "interpreter": {
   "hash": "397a8db9a99587ebc9659e575e97c3dbc03b7cdbd9bc181d706cc19eab1087ed"
  },
  "kernelspec": {
   "display_name": "Python 3 (ipykernel)",
   "language": "python",
   "name": "python3"
  },
  "language_info": {
   "codemirror_mode": {
    "name": "ipython",
    "version": 3
   },
   "file_extension": ".py",
   "mimetype": "text/x-python",
   "name": "python",
   "nbconvert_exporter": "python",
   "pygments_lexer": "ipython3",
   "version": "3.9.7"
  }
 },
 "nbformat": 4,
 "nbformat_minor": 4
}