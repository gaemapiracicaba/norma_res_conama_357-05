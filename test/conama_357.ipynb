{
 "cells": [
  {
   "cell_type": "markdown",
   "id": "9e050706-8b4f-495c-96bd-645a8a5e52d9",
   "metadata": {
    "tags": [
     "remove_cell"
    ]
   },
   "source": [
    "<br>\n",
    "\n",
    "# Introdução"
   ]
  },
  {
   "cell_type": "code",
   "execution_count": null,
   "id": "b165f4b3",
   "metadata": {},
   "outputs": [],
   "source": [
    "import os\n",
    "import pprint\n",
    "import pandas as pd\n",
    "from collections import OrderedDict"
   ]
  },
  {
   "cell_type": "code",
   "execution_count": null,
   "id": "ac837568",
   "metadata": {},
   "outputs": [],
   "source": [
    "def get_parameters():\n",
    "    # Read Data\n",
    "    try:\n",
    "        #print('Read local table')\n",
    "        df_357 = pd.read_excel(\n",
    "            io=os.path.join(os.path.dirname(__file__), 'data', 'tab_conama_357.xlsx'),\n",
    "            sheet_name='conama_357',\n",
    "            index_col=0,\n",
    "        )\n",
    "    except Exception as e:\n",
    "        #print(e, '\\n')\n",
    "        #print('Read table from GitHub')\n",
    "        df_357 = pd.read_excel(\n",
    "            io='https://raw.githubusercontent.com/gaemapiracicaba/norma_res_conama_357-05/main/src/normas/data/tab_conama_357.xlsx',\n",
    "            sheet_name='conama_357',\n",
    "            index_col=0,\n",
    "        )\n",
    "\n",
    "    # Filter only quality\n",
    "    df_357 = df_357.loc[(df_357['tipo_padrao'] == 'qualidade')]\n",
    "    #print(df_357.head())\n",
    "\n",
    "    # Classes\n",
    "    list_classes = list(set(df_357['padrao_qualidade']))\n",
    "    list_classes = [x for x in list_classes if pd.notnull(x)]\n",
    "    list_classes.sort()    \n",
    "\n",
    "    return df_357, list_classes"
   ]
  },
  {
   "cell_type": "code",
   "execution_count": null,
   "id": "b888fce3",
   "metadata": {
    "tags": [
     "remove_cell"
    ]
   },
   "outputs": [],
   "source": [
    "df_357, list_classes = get_parameters()\n",
    "df_357.head()\n",
    "pprint.pprint(list_classes)"
   ]
  },
  {
   "cell_type": "code",
   "execution_count": null,
   "id": "80ce2056",
   "metadata": {},
   "outputs": [],
   "source": [
    "def filter_by_classe(df_357, classe):\n",
    "    # Filter dataframe by Classe\n",
    "    df_357 = df_357.loc[(df_357['padrao_qualidade'] == classe)]\n",
    "\n",
    "    # Parâmetros\n",
    "    list_parametros = list(set(df_357['parametro_descricao']))\n",
    "    list_parametros = [x for x in list_parametros if pd.notnull(x)]\n",
    "    list_parametros.sort()\n",
    "    return df_357, list_parametros"
   ]
  },
  {
   "cell_type": "code",
   "execution_count": null,
   "id": "b4b923c9",
   "metadata": {
    "tags": [
     "remove_cell"
    ]
   },
   "outputs": [],
   "source": [
    "df_357, list_parametros = filter_by_classe(df_357, classe='Classe 2')\n",
    "pprint.pprint(list_parametros)"
   ]
  },
  {
   "cell_type": "code",
   "execution_count": null,
   "id": "94f77ece-1563-4272-9422-46f3e5a7f64f",
   "metadata": {},
   "outputs": [],
   "source": [
    "def filter_by_parameters(df_357, parametro, condicao=None):\n",
    "    # Filter dataframe by Parametro\n",
    "    df_357 = df_357.loc[(df_357['parametro_descricao'] == parametro)]\n",
    "\n",
    "    # Condição\n",
    "    array = df_357['condicao'].values\n",
    "    dict_condicao = dict(enumerate(array.flatten(), 1))\n",
    "\n",
    "    # Check and Get Results\n",
    "    if len(df_357) == 1 and len(array) == 1:\n",
    "        dict_357 = df_357.to_dict(orient='records')[0]\n",
    "        dict_357 = OrderedDict(sorted(dict_357.items(), key=lambda x: df_357.columns.get_loc(x[0])))\n",
    "        return dict_357\n",
    "\n",
    "    elif len(df_357) > 1 and len(array) > 1 and condicao is not None:\n",
    "        try:\n",
    "            # Filtra a Condição\n",
    "            #condicao = df_357['condicao'].values[condicao]\n",
    "            df_357 = df_357.loc[(df_357['condicao'] == dict_condicao[int(condicao)])]\n",
    "            dict_357 = df_357.to_dict(orient='records')[0]\n",
    "            dict_357 = OrderedDict(sorted(dict_357.items(), key=lambda x: df_357.columns.get_loc(x[0])))\n",
    "            return dict_357\n",
    "        except Exception as e:\n",
    "            #print(e)\n",
    "            print(f'A condição definida foi \"{condicao}\".\\nAs opções possíveis são:\\n')\n",
    "            print(*('{} - {}'.format(k, v) for k,v in dict_condicao.items()), sep='\\n')\n",
    "\n",
    "    else:\n",
    "        print(f'Parâmetro \"{parametro}\" tem mais de um registro.\\nFaz-se necessário definir condição!\\n')\n",
    "        print(*('{} - {}'.format(k, v) for k,v in dict_condicao.items()), sep='\\n')"
   ]
  },
  {
   "cell_type": "code",
   "execution_count": null,
   "id": "bb1667c0",
   "metadata": {
    "tags": [
     "remove_cell"
    ]
   },
   "outputs": [],
   "source": [
    "# Filter Data by Parâmetros\n",
    "#dict_357 = filter_by_parameters(df_357, parametro='Cobre Dissolvido')\n",
    "dict_357 = filter_by_parameters(df_357, parametro='Nitrogênio Amoniacal Total')\n",
    "#dict_357 = filter_by_parameters(df_357, parametro='Fósforo Total')\n",
    "#dict_357 = filter_by_parameters(df_357, parametro='Fósforo Total', condicao=3)\n",
    "dict_357"
   ]
  },
  {
   "cell_type": "code",
   "execution_count": null,
   "id": "a6790c1b",
   "metadata": {},
   "outputs": [],
   "source": [
    "def set_type_desconformidade(dict_357):\n",
    "    if pd.isnull(dict_357['valor_minimo_permitido']) & pd.notnull(dict_357['valor_maximo_permitido']):\n",
    "        #print('Parâmetro só tem \"valor máximo\". Caso o valor medido esteja acima, é amostra desconforme!')\n",
    "        tipo_357 = 'acima>desconforme'\n",
    "\n",
    "    elif pd.notnull(dict_357['valor_minimo_permitido']) & pd.isnull(dict_357['valor_maximo_permitido']):\n",
    "        #print('Parâmetro só tem \"valor mínimo\". Caso o valor medido esteja abaixo, é amostra desconforme!')\n",
    "        tipo_357 = 'abaixo>desconforme'\n",
    "\n",
    "    elif pd.notnull(dict_357['valor_minimo_permitido']) & pd.notnull(dict_357['valor_maximo_permitido']):\n",
    "        #print('Parâmetro tem \"valor mínimo\" e \"valor máximo\". Caso o valor medido acima ou abaixo, é amostra desconforme!')\n",
    "        tipo_357 = 'abaixo_acima>desconforme'\n",
    "\n",
    "    elif pd.isnull(dict_357['valor_minimo_permitido']) & pd.isnull(dict_357['valor_maximo_permitido']):\n",
    "        #print('Erro!')\n",
    "        tipo_357 = 'erro'\n",
    "    else:\n",
    "        print('Erro!')\n",
    "        tipo_357 = 'erro'\n",
    "\n",
    "    return tipo_357"
   ]
  },
  {
   "cell_type": "code",
   "execution_count": null,
   "id": "03855412",
   "metadata": {
    "tags": [
     "remove_cell"
    ]
   },
   "outputs": [],
   "source": [
    "set_type_desconformidade(dict_357)"
   ]
  },
  {
   "cell_type": "code",
   "execution_count": null,
   "id": "8cf9c618",
   "metadata": {
    "jupyter": {
     "outputs_hidden": false
    },
    "pycharm": {
     "name": "#%%\n"
    }
   },
   "outputs": [],
   "source": [
    "def evaluate_result(valor, dict_357):\n",
    "    # Get type\n",
    "    tipo_357 = set_type_desconformidade(dict_357)\n",
    "\n",
    "    # Evaluate type\n",
    "    if tipo_357 == 'acima>desconforme':\n",
    "        if valor > dict_357['valor_maximo_permitido']:\n",
    "            result_357 = 'desconforme'\n",
    "        else:\n",
    "            result_357 = 'conforme'\n",
    "\n",
    "    elif tipo_357 == 'abaixo>desconforme':\n",
    "        if valor < dict_357['valor_minimo_permitido']:\n",
    "            result_357 = 'desconforme'\n",
    "        else:\n",
    "            result_357 = 'conforme'\n",
    "\n",
    "    elif tipo_357 == 'abaixo_acima>desconforme':\n",
    "        if dict_357['valor_minimo_permitido'] <= valor <= dict_357['valor_maximo_permitido']:\n",
    "            result_357 = 'conforme'\n",
    "        else:\n",
    "            result_357 = 'desconforme'\n",
    "\n",
    "    elif tipo_357 == 'erro':\n",
    "        result_357 = 'erro'\n",
    "\n",
    "    else:\n",
    "        result_357 = 'erro'\n",
    "\n",
    "    return result_357"
   ]
  },
  {
   "cell_type": "code",
   "execution_count": null,
   "id": "2f200673",
   "metadata": {
    "jupyter": {
     "outputs_hidden": false
    },
    "pycharm": {
     "name": "#%%\n"
    },
    "tags": [
     "remove_cell"
    ]
   },
   "outputs": [],
   "source": [
    "valor = 10\n",
    "evaluate_result(valor, dict_357)"
   ]
  },
  {
   "cell_type": "markdown",
   "id": "ceab891c-0fdb-4f43-aa9e-5fb69181b27b",
   "metadata": {
    "tags": [
     "remove_cell"
    ]
   },
   "source": [
    "<br>\n",
    "\n",
    "# Export"
   ]
  },
  {
   "cell_type": "code",
   "execution_count": null,
   "id": "70faa5e9",
   "metadata": {
    "tags": [
     "remove_cell"
    ]
   },
   "outputs": [],
   "source": [
    "import os\n",
    "from traitlets.config import Config\n",
    "from nbconvert import PythonExporter\n",
    "from nbconvert.preprocessors import TagRemovePreprocessor"
   ]
  },
  {
   "cell_type": "code",
   "execution_count": null,
   "id": "352f48f9",
   "metadata": {
    "tags": [
     "remove_cell"
    ]
   },
   "outputs": [],
   "source": [
    "input_filename = 'conama_357.ipynb'\n",
    "input_filepath = os.path.join(os.getcwd(), input_filename)"
   ]
  },
  {
   "cell_type": "code",
   "execution_count": null,
   "id": "14926c38",
   "metadata": {
    "tags": [
     "remove_cell"
    ]
   },
   "outputs": [],
   "source": [
    "# Import the exporter\n",
    "c = Config()\n",
    "c.TagRemovePreprocessor.enabled=True\n",
    "c.ClearOutputPreprocessor.enabled=True\n",
    "c.TemplateExporter.exclude_markdown=True\n",
    "c.TemplateExporter.exclude_code_cell=False\n",
    "c.TemplateExporter.exclude_input_prompt=True\n",
    "c.TemplateExporter.exclude_output=True\n",
    "c.TemplateExporter.exclude_raw=True\n",
    "c.TagRemovePreprocessor.remove_cell_tags = ('remove_cell',)\n",
    "c.TagRemovePreprocessor.remove_input_tags = ('remove_cell',)\n",
    "c.TagRemovePreprocessor.remove_all_outputs_tags = ('remove_output',)\n",
    "c.preprocessors = ['TagRemovePreprocessor']\n",
    "c.PythonExporter.preprocessors = ['nbconvert.preprocessors.TagRemovePreprocessor']\n",
    "\n",
    "# Configure and run out exporter\n",
    "py_exporter = PythonExporter(config=c)\n",
    "py_exporter.register_preprocessor(TagRemovePreprocessor(config=c), True)\n",
    "\n",
    "# Configure and run out exporter - returns a tuple - first element with html, second with notebook metadata\n",
    "body, metadata = PythonExporter(config=c).from_filename(input_filepath)\n",
    "\n",
    "# Write to output html file\n",
    "with open(os.path.join(os.getcwd(), '..', 'src', 'normas', 'conama_357.py'),  'w', encoding='utf-8') as f:\n",
    "    f.write(body)"
   ]
  },
  {
   "cell_type": "code",
   "execution_count": null,
   "id": "de564dd3",
   "metadata": {
    "tags": [
     "remove_cell"
    ]
   },
   "outputs": [],
   "source": []
  }
 ],
 "metadata": {
  "interpreter": {
   "hash": "2bdda54bf0f28693adab761d90c570fb0a7faa3609b365313c0b5d078440c060"
  },
  "kernelspec": {
   "display_name": "Python 3.9.12 ('pablocarreira-py39')",
   "language": "python",
   "name": "python3"
  },
  "language_info": {
   "codemirror_mode": {
    "name": "ipython",
    "version": 3
   },
   "file_extension": ".py",
   "mimetype": "text/x-python",
   "name": "python",
   "nbconvert_exporter": "python",
   "pygments_lexer": "ipython3",
   "version": "3.9.12"
  }
 },
 "nbformat": 4,
 "nbformat_minor": 5
}
